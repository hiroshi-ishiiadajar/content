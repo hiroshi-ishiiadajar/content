{
 "cells": [
  {
   "cell_type": "code",
   "execution_count": 1,
   "metadata": {
    "collapsed": false
   },
   "outputs": [
    {
     "name": "stdout",
     "output_type": "stream",
     "text": [
      "Setting custom matplotlib visual style\n",
      "Setting custom CSS for the IPython Notebook\n",
      "Populating the interactive namespace from numpy and matplotlib\n"
     ]
    },
    {
     "name": "stderr",
     "output_type": "stream",
     "text": [
      "C:\\Users\\rlochavillo\\Anaconda2\\lib\\site-packages\\matplotlib\\__init__.py:872: UserWarning: axes.color_cycle is deprecated and replaced with axes.prop_cycle; please use the latter.\n",
      "  warnings.warn(self.msg_depr % (key, alt_key))\n"
     ]
    }
   ],
   "source": [
    "# Setup\n",
    "import pattern.web as web\n",
    "import pandas as pd\n",
    "import numpy as np\n",
    "import matplotlib.pyplot as plt\n",
    "\n",
    "from cs109style import customize_mpl, customize_css\n",
    "customize_mpl()\n",
    "customize_css()\n",
    "%pylab inline"
   ]
  },
  {
   "cell_type": "markdown",
   "metadata": {},
   "source": [
    "## Example 2: extracting reddit titles, upvotes, downvotes, and submission time\n",
    "\n",
    "### We'll operate in two phases:\n",
    "* first, find all the URLs to comment pages on the first few front pages of reddit.\n",
    "* second, extract information from each comments page"
   ]
  },
  {
   "cell_type": "code",
   "execution_count": 4,
   "metadata": {
    "collapsed": true
   },
   "outputs": [],
   "source": [
    "url = web.URL('http://www.reddit.com/')\n",
    "dom = url.download(cached=False)\n"
   ]
  },
  {
   "cell_type": "code",
   "execution_count": 13,
   "metadata": {
    "collapsed": false
   },
   "outputs": [
    {
     "name": "stdout",
     "output_type": "stream",
     "text": [
      "[[u'https://www.reddit.com/r/pics/comments/4bbvve/nice_save/', u'https://www.reddit.com/r/Showerthoughts/comments/4bbvlz/it_took_me_5_minutes_to_smoke_a_cigarette_which/', u'https://www.reddit.com/r/videos/comments/4bbvxm/i_cant_believe_i_watched_this_the_most_annoying/', u'https://www.reddit.com/r/mildlyinteresting/comments/4bbwbk/my_chemistry_teacher_posted_this_titled_dont/', u'https://www.reddit.com/r/GetMotivated/comments/4bbw2s/discussion/', u'https://www.reddit.com/r/Jokes/comments/4bbw8s/whos_the_president_with_the_dirtiest_hands/', u'https://www.reddit.com/r/gifs/comments/4bbvlu/always_stay_on_your_lane/', u'https://www.reddit.com/r/Fitness/comments/4bbvvc/lifting_shoes_in_australia/', u'https://www.reddit.com/r/sports/comments/4bbkls/novak_djokovic_questions_equal_prize_money_in/', u'https://www.reddit.com/r/UpliftingNews/comments/4bbvp5/stephen_colbert_funds_1000_projects_for_south/', u'https://www.reddit.com/r/pics/comments/4bar8e/my_boyfriend_refused_to_believe_i_had_met_the/', u'https://www.reddit.com/r/gifs/comments/4bapvg/lighting_a_ton_of_matches_on_fire/', u'https://www.reddit.com/r/movies/comments/4baewx/animation_software_used_by_futurama_and_studio/', u'https://www.reddit.com/r/todayilearned/comments/4bah9a/til_koko_the_gorilla_loved_mister_rogers/', u'https://www.reddit.com/r/funny/comments/4banp0/parental_guidance_recommended/', u'https://www.reddit.com/r/books/comments/4bab3j/old_kindles_will_be_disconnected_from_the/', u'https://www.reddit.com/r/Showerthoughts/comments/4babk5/the_nsfw_tag_doesnt_change_if_i_view_a_post_at/', u'https://www.reddit.com/r/mildlyinteresting/comments/4ba6gd/this_mc_donalds_has_only_one_golden_arch/', u'https://www.reddit.com/r/DIY/comments/4ba16j/i_built_a_pc_out_of_wood/', u'https://www.reddit.com/r/aww/comments/4b9xuf/hes_so_excited/', u'https://www.reddit.com/r/gaming/comments/4b9ptj/whos_been_storing_grenades_in_my_medkits/', u'https://www.reddit.com/r/news/comments/4b9ik9/boaty_mcboatface_could_be_the_name_of_200m/', u'https://www.reddit.com/r/television/comments/4bb8h4/last_week_tonight_with_john_oliver_border_wall_hbo/', u'https://www.reddit.com/r/sports/comments/4bamgg/texas_am_down_12pts_with_44secs_remaining_rally_a/', u'https://www.reddit.com/r/personalfinance/comments/4b91pt/successfully_negotiated_a_45_raise_in_salary/', u'https://www.reddit.com/r/nottheonion/comments/4bbm4b/cat_burglar_just_cant_stop_stealing_male/', u'https://www.reddit.com/r/LifeProTips/comments/4b91rl/lpt_when_the_airlines_are_overbooked_and_offer/', u'https://www.reddit.com/r/photoshopbattles/comments/4b8xbu/psbattle_a_tiger_poking_his_head_out_of_water/', u'https://www.reddit.com/r/worldnews/comments/4b94y6/obama_arrives_in_cuba_heralding_new_era_after/', u'https://www.reddit.com/r/WritingPrompts/comments/4b9a2k/wp_at_the_age_of_18_you_are_permitted_to/', u'https://www.reddit.com/r/videos/comments/4b9im9/h3h3_the_leafy_rant/', u'https://www.reddit.com/r/IAmA/comments/4b8s0m/iama_jared_matt_from_cage_the_elephant_ama/', u'https://www.reddit.com/r/Jokes/comments/4b8fqe/what_does_a_robot_do_at_the_end_of_a_one_night/', u'https://www.reddit.com/r/Music/comments/4b885b/ellie_goulding_earned_my_respect_last_night/', u'https://www.reddit.com/r/food/comments/4b84g8/eggs_on_a_cloud_and_bacon_biscuit_sandwiches_for/']]\n",
      "1\n"
     ]
    }
   ],
   "source": [
    "def get_links_from_front_pages(n, dom):\n",
    "    'find  URLs of comments pages, linked from the n first few pages of reddit'\n",
    "    #url = web.URL('http://www.reddit.com/')\n",
    "    comment_pages = []\n",
    "    for page_idx in range(n):\n",
    "        dom = web.DOM(dom)\n",
    "        links = [li.by_tag(\"a\") for li in dom.by_tag(\"li.first\")]\n",
    "        comment_pages.append([link[0].attributes.get('href','') for link in links]) #append in ascii, not as list but to the end\n",
    "        ### Extract comments pages\n",
    "        \n",
    "        ### find the next page link - reddit has 25 links per page\n",
    "\n",
    "    # use set() to remove repeated URLs\n",
    "    print comment_pages\n",
    "    return comment_pages\n",
    "\n",
    "            \n",
    "print len(get_links_from_front_pages(1, dom))"
   ]
  },
  {
   "cell_type": "code",
   "execution_count": null,
   "metadata": {
    "collapsed": false
   },
   "outputs": [],
   "source": [
    "def info_from_comments_pages(links):\n",
    "    'fetch title, upvotes, downvotes, time of submission from a sequence of links'\n",
    "    results = []\n",
    "    for urltext in links:\n",
    "        url = web.URL(urltext)\n",
    "        print \"fetching info for\", url\n",
    "        try:\n",
    "            dom = web.DOM(url.download(cached=False))\n",
    "            \n",
    "            ### Extract title, upvotes, downvotes, submission time\n",
    "            \n",
    "            results.append((title, upvotes, downvotes, pd.to_datetime(time)))\n",
    "        except KeyboardInterrupt:\n",
    "            # allow us to interrupt the kernel and still continue\n",
    "            break\n",
    "        except:\n",
    "            pass  # some things that look like comment pages don't have the information above\n",
    "    return results"
   ]
  },
  {
   "cell_type": "code",
   "execution_count": null,
   "metadata": {
    "collapsed": false
   },
   "outputs": [],
   "source": [
    "comments_pages = get_links_from_front_pages(5)\n",
    "print \"Fetching info for\", len(comments_pages), \"pages\"\n",
    "pages = info_from_comments_pages(comments_pages)\n",
    "titles, upvotes, downvotes, dates = zip(*pages)  # zip(*seq) transposes a sequence of sequences.\n",
    "df = pd.DataFrame({'title' : titles, 'upvotes' : upvotes, 'downvotes' : downvotes, 'date' : dates}, index=dates)\n",
    "print df"
   ]
  },
  {
   "cell_type": "code",
   "execution_count": null,
   "metadata": {
    "collapsed": false
   },
   "outputs": [],
   "source": [
    "df.sort('date', inplace=True)\n",
    "df['upvotes'].plot(c='g')\n",
    "df['downvotes'].plot(c='r')\n",
    "(df['upvotes'] - df['downvotes']).plot(c='k')\n"
   ]
  },
  {
   "cell_type": "code",
   "execution_count": null,
   "metadata": {
    "collapsed": false
   },
   "outputs": [],
   "source": []
  }
 ],
 "metadata": {
  "kernelspec": {
   "display_name": "Python 2",
   "language": "python",
   "name": "python2"
  },
  "language_info": {
   "codemirror_mode": {
    "name": "ipython",
    "version": 2
   },
   "file_extension": ".py",
   "mimetype": "text/x-python",
   "name": "python",
   "nbconvert_exporter": "python",
   "pygments_lexer": "ipython2",
   "version": "2.7.11"
  }
 },
 "nbformat": 4,
 "nbformat_minor": 0
}
