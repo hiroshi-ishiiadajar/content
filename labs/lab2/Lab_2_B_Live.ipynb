{
 "cells": [
  {
   "cell_type": "code",
   "execution_count": 50,
   "metadata": {
    "collapsed": false
   },
   "outputs": [
    {
     "name": "stdout",
     "output_type": "stream",
     "text": [
      "Setting custom matplotlib visual style\n",
      "Setting custom CSS for the IPython Notebook\n",
      "Populating the interactive namespace from numpy and matplotlib\n"
     ]
    }
   ],
   "source": [
    "# Setup\n",
    "import pattern.web as web\n",
    "import pandas as pd\n",
    "import numpy as np\n",
    "import matplotlib.pyplot as plt\n",
    "import re\n",
    "\n",
    "from cs109style import customize_mpl, customize_css\n",
    "customize_mpl()\n",
    "customize_css()\n",
    "%pylab inline"
   ]
  },
  {
   "cell_type": "markdown",
   "metadata": {},
   "source": [
    "## Example 2: extracting reddit titles, upvotes, downvotes, and submission time\n",
    "\n",
    "### We'll operate in two phases:\n",
    "* first, find all the URLs to comment pages on the first few front pages of reddit.\n",
    "* second, extract information from each comments page"
   ]
  },
  {
   "cell_type": "code",
   "execution_count": 9,
   "metadata": {
    "collapsed": false
   },
   "outputs": [
    {
     "name": "stdout",
     "output_type": "stream",
     "text": [
      "184\n"
     ]
    }
   ],
   "source": [
    "def get_links_from_front_pages(n):\n",
    "    'find  URLs of comments pages, linked from the n first few pages of reddit'\n",
    "    url = web.URL('http://www.reddit.com/')\n",
    "    dom = url.download(cached=False)\n",
    "    comment_pages = []\n",
    "    for page_idx in range(n):\n",
    "        dom = web.DOM(url.download(cached=False))\n",
    "        links = [li.by_tag(\"a\") for li in dom.by_tag(\"li.first\")]\n",
    "        comment_pages += [link[0].attributes.get('href','') for link in links] \n",
    "        ### Extract comments pages\n",
    "        \n",
    "        ### find the next page link - reddit has 25 links per page\n",
    "        for a in dom('a'):\n",
    "            if 'count=%d' % ((page_idx + 1)*25) in a.attributes.get('href',''):\n",
    "                url = web.URL(a.attributes.get('href',''))\n",
    "        \n",
    "    # use set() to remove repeated URLs\n",
    "    return list(set(comment_pages))\n",
    "\n",
    "print len(get_links_from_front_pages(6))"
   ]
  },
  {
   "cell_type": "code",
   "execution_count": 83,
   "metadata": {
    "collapsed": false
   },
   "outputs": [],
   "source": [
    "def info_from_comments_pages(links):\n",
    "    'fetch title, upvotes, downvotes, time of submission from a sequence of links'\n",
    "    results = []\n",
    "    for urltext in links:\n",
    "        url = web.URL(urltext)\n",
    "        print \"fetching info for\", url\n",
    "        try:\n",
    "            dom = web.DOM(url.download(cached=False))\n",
    "            ### Extract title, upvotes, downvotes, submission time\n",
    "            title = dom('title')[0].content\n",
    "            score = dom.by_class('score')[0]\n",
    "            \n",
    "            points = float(score.by_class('number')[0].content.replace(',',''))\n",
    "            m = re.search(\"([0-9]{1,3})\\% upvoted\", score.content)\n",
    "            upPercent = float(m.group(1))\n",
    "            totalvotes = 100.*points/(2*upPercent - 100.)\n",
    "            upvotes = totalvotes*upPercent/100.\n",
    "            downvotes = totalvotes - upvotes\n",
    "            \n",
    "            time = dom.by_class('tagline')[0]('time')[0].attributes.get('datetime')\n",
    "            results.append((title, upvotes, downvotes, pd.to_datetime(time)))\n",
    "        except KeyboardInterrupt:\n",
    "            # allow us to interrupt the kernel and still continue\n",
    "            break\n",
    "        except:\n",
    "            print 'Can\\'t find info'\n",
    "            pass  # some things that look like comment pages don't have the information above\n",
    "    return results"
   ]
  },
  {
   "cell_type": "code",
   "execution_count": 12,
   "metadata": {
    "collapsed": false
   },
   "outputs": [],
   "source": [
    "comments_pages = get_links_from_front_pages(5)"
   ]
  },
  {
   "cell_type": "code",
   "execution_count": 80,
   "metadata": {
    "collapsed": false,
    "scrolled": true
   },
   "outputs": [
    {
     "name": "stdout",
     "output_type": "stream",
     "text": [
      "Fetching info for 20 pages\n",
      "fetching info for https://www.reddit.com/r/AskReddit/comments/4bqpy8/what_do_you_consider_to_be_the_best_arcade_game/\n",
      "fetching info for https://www.reddit.com/r/pics/comments/4bpjkh/thanks_indeed_mr_pipe/\n",
      "fetching info for https://www.reddit.com/r/GetMotivated/comments/4bmfot/imagemy_sons_fortune_cookie_motivation_for_any/\n",
      "fetching info for https://www.reddit.com/r/videos/comments/4bopv0/bow_and_arrow_primitive_technology/\n",
      "fetching info for https://www.reddit.com/r/WritingPrompts/comments/4boqu6/wp_your_roommate_is_2nd_most_powerful_superhero/\n",
      "fetching info for https://www.reddit.com/r/sports/comments/4bnqzd/amazing_skateboarding_skill_xpost_rbeamazed/\n",
      "fetching info for https://www.reddit.com/r/listentothis/comments/4bme3d/strawberry_girls_simon_vandetta_progpostrock/\n",
      "fetching info for https://www.reddit.com/r/news/comments/4bnyt2/colleges_slammed_with_lawsuits_from_men_accused/\n",
      "fetching info for https://www.reddit.com/r/funny/comments/4bqq9d/dont_talk_to_me_or_my_son_ever_again/\n",
      "fetching info for https://www.reddit.com/r/food/comments/4bmuxq/made_some_fried_chicken_last_night/\n",
      "fetching info for https://www.reddit.com/r/AskReddit/comments/4bqq8f/can_people_with_felonies_go_to_japan/\n",
      "fetching info for https://www.reddit.com/r/videos/comments/4bnjtm/the_ai_in_the_new_hitman_game_is_amazing/\n",
      "fetching info for https://www.reddit.com/r/Art/comments/4blpzv/slimey_space_reaper_markers_and_ink_on_paper_a5/\n",
      "fetching info for https://www.reddit.com/r/worldnews/comments/4bmlb1/the_international_criminal_court_recognises_rape/\n",
      "fetching info for https://www.reddit.com/r/todayilearned/comments/4bmyhy/til_firefighters_in_tennessee_let_a_house_burn/\n",
      "fetching info for https://www.reddit.com/r/food/comments/4bmzmq/my_10day_brined_48hour_sous_vide_corned_beef/\n",
      "fetching info for https://www.reddit.com/r/AskReddit/comments/4bqq53/best_p2p_tv_service/\n",
      "fetching info for https://www.reddit.com/r/nosleep/comments/4boper/the_athanasia_killer/\n",
      "fetching info for https://www.reddit.com/r/todayilearned/comments/4bohpg/til_the_original_tron_movie_1982_was_disqualified/\n",
      "fetching info for https://www.reddit.com/r/Art/comments/4bqowf/framing_art_at_home_ideas_for_lighting/\n"
     ]
    }
   ],
   "source": [
    "comments_pages = comments_pages[:20]\n",
    "print \"Fetching info for\", len(comments_pages), \"pages\"\n",
    "pages = info_from_comments_pages(comments_pages)"
   ]
  },
  {
   "cell_type": "code",
   "execution_count": 81,
   "metadata": {
    "collapsed": false
   },
   "outputs": [
    {
     "name": "stdout",
     "output_type": "stream",
     "text": [
      "[(u'What do you consider to be the best arcade game ever? : AskReddit', 4.9411764705882355, 0.9411764705882355, Timestamp('2016-03-24 07:55:36')), (u'Thanks indeed, Mr. Pipe. : pics', 6010.439024390244, 594.4390243902435, Timestamp('2016-03-24 01:17:36')), (u\"[Image]My son's fortune cookie \\u2014 motivation for any age imo. : GetMotivated\", 3103.714285714286, 547.7142857142858, Timestamp('2016-03-23 13:24:19')), (u'Bow and Arrow (Primitive Technology) : videos', 6310.761904761905, 548.7619047619046, Timestamp('2016-03-23 21:59:04')), (u'[WP] Your roommate is 2nd most powerful superhero in the world and he will not shut up about it. He does not yet know that you are the 1st. : WritingPrompts', 1061.9302325581396, 79.93023255813955, Timestamp('2016-03-23 22:05:12')), (u'Amazing skateboarding skill (x-post /r/BeAmazed) : sports', 4051.7820512820513, 500.78205128205127, Timestamp('2016-03-23 18:25:42')), (u'strawberry girls -- simon vandetta [prog/post-rock, experimental] (2015) l2t best of 2015 artist : listentothis', 353.15789473684214, 48.15789473684208, Timestamp('2016-03-23 13:11:09')), (u'Colleges slammed with lawsuits from men accused of sex crimes; At least 75 men have sued their schools since 2013, complaining largely of reverse discrimination and unfair disciplinary proceedings. : news', 4667.9358974358975, 576.9358974358975, Timestamp('2016-03-23 19:13:32')), (u\"Don't talk to me or my son EVER AGAIN : funny\", -0.0, 0.0, Timestamp('2016-03-24 07:59:51')), (u'Made some Fried Chicken last night. : food', 853.4871794871796, 105.48717948717945, Timestamp('2016-03-23 15:09:03')), (u'Can people with felonies go to japan? : AskReddit', 3.0, 0.0, Timestamp('2016-03-24 07:59:28')), (u'The AI in the new Hitman game is amazing : videos', 5750.055555555557, 936.0555555555547, Timestamp('2016-03-23 17:41:43')), (u'Slimey Space Reaper - Markers and ink on paper, A5 : Art', 2559.571428571429, 222.57142857142844, Timestamp('2016-03-23 08:43:29')), (u'The International Criminal Court Recognises Rape as a War Crime : worldnews', 6853.578947368422, 934.5789473684208, Timestamp('2016-03-23 14:05:47')), (u\"TIL firefighters in Tennessee let a house burn because the homeowners didn't pay a &quot;$75 fire subscription fee&quot; : todayilearned\", 3289.5, 535.5, Timestamp('2016-03-23 15:30:27')), (u'My 10-Day Brined, 48-hour Sous Vide Corned Beef dinner from this past weekend. : food', 3668.21052631579, 500.21052631578914, Timestamp('2016-03-23 15:37:45')), (u'Best P2P TV service? : AskReddit', 2.0, 0.0, Timestamp('2016-03-24 07:58:19')), (u'The Athanasia Killer : nosleep', 86.71794871794872, 10.717948717948715, Timestamp('2016-03-23 21:56:19')), (u'TIL the original Tron movie (1982) was disqualified from receiving an Academy Award nomination for special effects, because the Academy felt at the time that using computers was &quot;cheating&quot; : todayilearned', 3071.047619047619, 267.04761904761926, Timestamp('2016-03-23 21:07:42')), (u'Framing art at home, ideas for lighting? : Art', 1.0, 0.0, Timestamp('2016-03-24 07:41:23'))]\n",
      "                                   date   downvotes  \\\n",
      "2016-03-24 07:55:36 2016-03-24 07:55:36    0.941176   \n",
      "2016-03-24 01:17:36 2016-03-24 01:17:36  594.439024   \n",
      "2016-03-23 13:24:19 2016-03-23 13:24:19  547.714286   \n",
      "2016-03-23 21:59:04 2016-03-23 21:59:04  548.761905   \n",
      "2016-03-23 22:05:12 2016-03-23 22:05:12   79.930233   \n",
      "2016-03-23 18:25:42 2016-03-23 18:25:42  500.782051   \n",
      "2016-03-23 13:11:09 2016-03-23 13:11:09   48.157895   \n",
      "2016-03-23 19:13:32 2016-03-23 19:13:32  576.935897   \n",
      "2016-03-24 07:59:51 2016-03-24 07:59:51    0.000000   \n",
      "2016-03-23 15:09:03 2016-03-23 15:09:03  105.487179   \n",
      "2016-03-24 07:59:28 2016-03-24 07:59:28    0.000000   \n",
      "2016-03-23 17:41:43 2016-03-23 17:41:43  936.055556   \n",
      "2016-03-23 08:43:29 2016-03-23 08:43:29  222.571429   \n",
      "2016-03-23 14:05:47 2016-03-23 14:05:47  934.578947   \n",
      "2016-03-23 15:30:27 2016-03-23 15:30:27  535.500000   \n",
      "2016-03-23 15:37:45 2016-03-23 15:37:45  500.210526   \n",
      "2016-03-24 07:58:19 2016-03-24 07:58:19    0.000000   \n",
      "2016-03-23 21:56:19 2016-03-23 21:56:19   10.717949   \n",
      "2016-03-23 21:07:42 2016-03-23 21:07:42  267.047619   \n",
      "2016-03-24 07:41:23 2016-03-24 07:41:23    0.000000   \n",
      "\n",
      "                                                                 title  \\\n",
      "2016-03-24 07:55:36  What do you consider to be the best arcade gam...   \n",
      "2016-03-24 01:17:36                    Thanks indeed, Mr. Pipe. : pics   \n",
      "2016-03-23 13:24:19  [Image]My son's fortune cookie — motivation fo...   \n",
      "2016-03-23 21:59:04      Bow and Arrow (Primitive Technology) : videos   \n",
      "2016-03-23 22:05:12  [WP] Your roommate is 2nd most powerful superh...   \n",
      "2016-03-23 18:25:42  Amazing skateboarding skill (x-post /r/BeAmaze...   \n",
      "2016-03-23 13:11:09  strawberry girls -- simon vandetta [prog/post-...   \n",
      "2016-03-23 19:13:32  Colleges slammed with lawsuits from men accuse...   \n",
      "2016-03-24 07:59:51      Don't talk to me or my son EVER AGAIN : funny   \n",
      "2016-03-23 15:09:03         Made some Fried Chicken last night. : food   \n",
      "2016-03-24 07:59:28  Can people with felonies go to japan? : AskReddit   \n",
      "2016-03-23 17:41:43  The AI in the new Hitman game is amazing : videos   \n",
      "2016-03-23 08:43:29  Slimey Space Reaper - Markers and ink on paper...   \n",
      "2016-03-23 14:05:47  The International Criminal Court Recognises Ra...   \n",
      "2016-03-23 15:30:27  TIL firefighters in Tennessee let a house burn...   \n",
      "2016-03-23 15:37:45  My 10-Day Brined, 48-hour Sous Vide Corned Bee...   \n",
      "2016-03-24 07:58:19                   Best P2P TV service? : AskReddit   \n",
      "2016-03-23 21:56:19                     The Athanasia Killer : nosleep   \n",
      "2016-03-23 21:07:42  TIL the original Tron movie (1982) was disqual...   \n",
      "2016-03-24 07:41:23     Framing art at home, ideas for lighting? : Art   \n",
      "\n",
      "                         upvotes  \n",
      "2016-03-24 07:55:36     4.941176  \n",
      "2016-03-24 01:17:36  6010.439024  \n",
      "2016-03-23 13:24:19  3103.714286  \n",
      "2016-03-23 21:59:04  6310.761905  \n",
      "2016-03-23 22:05:12  1061.930233  \n",
      "2016-03-23 18:25:42  4051.782051  \n",
      "2016-03-23 13:11:09   353.157895  \n",
      "2016-03-23 19:13:32  4667.935897  \n",
      "2016-03-24 07:59:51    -0.000000  \n",
      "2016-03-23 15:09:03   853.487179  \n",
      "2016-03-24 07:59:28     3.000000  \n",
      "2016-03-23 17:41:43  5750.055556  \n",
      "2016-03-23 08:43:29  2559.571429  \n",
      "2016-03-23 14:05:47  6853.578947  \n",
      "2016-03-23 15:30:27  3289.500000  \n",
      "2016-03-23 15:37:45  3668.210526  \n",
      "2016-03-24 07:58:19     2.000000  \n",
      "2016-03-23 21:56:19    86.717949  \n",
      "2016-03-23 21:07:42  3071.047619  \n",
      "2016-03-24 07:41:23     1.000000  \n"
     ]
    }
   ],
   "source": [
    "print pages\n",
    "titles, upvotes, downvotes, dates = zip(*pages)  # zip(*seq) transposes a sequence of sequences.\n",
    "df = pd.DataFrame({'title' : titles, 'upvotes' : upvotes, 'downvotes' : downvotes, 'date' : dates}, index=dates)\n",
    "print df"
   ]
  },
  {
   "cell_type": "code",
   "execution_count": 82,
   "metadata": {
    "collapsed": false
   },
   "outputs": [
    {
     "name": "stderr",
     "output_type": "stream",
     "text": [
      "C:\\Users\\rlochavillo\\Anaconda2\\lib\\site-packages\\ipykernel\\__main__.py:1: FutureWarning: sort(columns=....) is deprecated, use sort_values(by=.....)\n",
      "  if __name__ == '__main__':\n"
     ]
    },
    {
     "data": {
      "text/plain": [
       "<matplotlib.axes._subplots.AxesSubplot at 0xee83400>"
      ]
     },
     "execution_count": 82,
     "metadata": {},
     "output_type": "execute_result"
    },
    {
     "data": {
      "image/png": "[encoded data removed]",
      "text/plain": [
       "<matplotlib.figure.Figure at 0x9f22400>"
      ]
     },
     "metadata": {},
     "output_type": "display_data"
    }
   ],
   "source": [
    "df.sort('date', inplace=True)\n",
    "df['upvotes'].plot(c='g')\n",
    "df['downvotes'].plot(c='r')\n",
    "(df['upvotes'] - df['downvotes']).plot(c='k')\n"
   ]
  },
  {
   "cell_type": "code",
   "execution_count": null,
   "metadata": {
    "collapsed": true
   },
   "outputs": [],
   "source": []
  }
 ],
 "metadata": {
  "kernelspec": {
   "display_name": "Python 2",
   "language": "python",
   "name": "python2"
  },
  "language_info": {
   "codemirror_mode": {
    "name": "ipython",
    "version": 2
   },
   "file_extension": ".py",
   "mimetype": "text/x-python",
   "name": "python",
   "nbconvert_exporter": "python",
   "pygments_lexer": "ipython2",
   "version": "2.7.11"
  }
 },
 "nbformat": 4,
 "nbformat_minor": 0
}
